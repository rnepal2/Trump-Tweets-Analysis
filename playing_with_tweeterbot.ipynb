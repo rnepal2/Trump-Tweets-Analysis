{
 "cells": [
  {
   "cell_type": "code",
   "execution_count": 58,
   "metadata": {},
   "outputs": [],
   "source": [
    "from twitter_bot import TwitterBot"
   ]
  },
  {
   "cell_type": "code",
   "execution_count": 59,
   "metadata": {},
   "outputs": [],
   "source": [
    "#Twitter API credentials  \n",
    "CONSUMER_KEY = \" \"\n",
    "CONSUMER_SECRET = \" \"\n",
    "ACCESS_KEY = \" \"\n",
    "ACCESS_SECRET = \" \""
   ]
  },
  {
   "cell_type": "code",
   "execution_count": 60,
   "metadata": {},
   "outputs": [
    {
     "name": "stdout",
     "output_type": "stream",
     "text": [
      "Help on class TwitterBot in module twitter_bot:\n",
      "\n",
      "class TwitterBot(builtins.object)\n",
      " |  This is the TwitterBot class which has different methods designed to play with the \n",
      " |  twitter API. The methods can perform the some of the tasks we can perform using \n",
      " |  twitter application running those methods.\n",
      " |  \n",
      " |  Methods defined here:\n",
      " |  \n",
      " |  __init__(self, consumer_key, consumer_secret, access_key, access_secret)\n",
      " |      The constructor for TweetBot class.\n",
      " |      Parameters:\n",
      " |          twitter API credentials (SECRET): consumer_key, consumer_secret, access_key, access_secret\n",
      " |      Creates your twitter API object named api_.\n",
      " |  \n",
      " |  follow_user(self, user_screenname)\n",
      " |      This will make you follow a user.\n",
      " |          Parameteres:\n",
      " |              screen_name of the user you want to follow.\n",
      " |  \n",
      " |  post_tweet(self, tweet_text)\n",
      " |      Posts a tweet in your timeline.\n",
      " |          Parameters:\n",
      " |              the text (string) of the tweet you want to post.\n",
      " |  \n",
      " |  unfollow_user(self, user_screenname)\n",
      " |      This makes you unfollow an user.\n",
      " |          Parameters:\n",
      " |              screen_name of the user you want to unfollow.\n",
      " |  \n",
      " |  user_followers(self, user_screenname)\n",
      " |      Returns the followers of a user (with name and screen name).\n",
      " |          Parameters:\n",
      " |              screen_name of the user.\n",
      " |  \n",
      " |  user_info(self, user_screenname)\n",
      " |      Returns the information about a user: name, screen_name, description and location\n",
      " |          Parameters:\n",
      " |              screen_name of the user.\n",
      " |  \n",
      " |  user_timeline(self, user_screenname)\n",
      " |      Returns 20 most recent post on the user timeline.\n",
      " |          Parameters:\n",
      " |              screen_name of the user.\n",
      " |              example: string 'realDonaldTrump' given the twitter handle is: @realDonaldTrump\n",
      " |  \n",
      " |  ----------------------------------------------------------------------\n",
      " |  Data descriptors defined here:\n",
      " |  \n",
      " |  __dict__\n",
      " |      dictionary for instance variables (if defined)\n",
      " |  \n",
      " |  __weakref__\n",
      " |      list of weak references to the object (if defined)\n",
      " |  \n",
      " |  api\n",
      " |      Returns the twitter API.\n",
      "\n"
     ]
    }
   ],
   "source": [
    "# about the class\n",
    "\n",
    "help(TwitterBot)"
   ]
  },
  {
   "cell_type": "code",
   "execution_count": 47,
   "metadata": {},
   "outputs": [],
   "source": [
    "bot = TwitterBot(CONSUMER_KEY, CONSUMER_SECRET, ACCESS_KEY, ACCESS_SECRET)"
   ]
  },
  {
   "cell_type": "code",
   "execution_count": 51,
   "metadata": {},
   "outputs": [],
   "source": [
    "user_screenname = 'realDonaldTrump'"
   ]
  },
  {
   "cell_type": "code",
   "execution_count": 52,
   "metadata": {},
   "outputs": [
    {
     "data": {
      "text/plain": [
       "[{'time': 'Tue Dec 25 02:28:40 +0000 2018',\n",
       "  'text': 'RT @FLOTUS: Helping children across the country track #Santa is becoming one of my favorite traditions!  @Potus and I enjoyed working with…'},\n",
       " {'time': 'Mon Dec 24 22:24:13 +0000 2018',\n",
       "  'text': 'I am in the Oval Office &amp; just gave out a 115 mile long contract for another large section of the Wall in Texas. We are already building and renovating many miles of Wall, some complete. Democrats must end Shutdown and finish funding. Billions of Dollars, &amp; lives, will be saved!'},\n",
       " {'time': 'Mon Dec 24 21:14:12 +0000 2018',\n",
       "  'text': 'Christmas Eve briefing with my team working on North Korea – Progress being made. Looking forward to my next summit with Chairman Kim! https://t.co/zPTtDbrP0o'},\n",
       " {'time': 'Mon Dec 24 17:32:44 +0000 2018',\n",
       "  'text': 'I am all alone (poor me) in the White House waiting for the Democrats to come back and make a deal on desperately needed Border Security. At some point the Democrats not wanting to make a deal will cost our Country more money than the Border Wall we are all talking about. Crazy!'},\n",
       " {'time': 'Mon Dec 24 17:23:22 +0000 2018',\n",
       "  'text': 'Saudi Arabia has now agreed to spend the necessary money needed to help rebuild Syria, instead of the United States. See? Isn’t it nice when immensely wealthy countries help rebuild their neighbors rather than a Great Country, the U.S., that is 5000 miles away. Thanks to Saudi A!'},\n",
       " {'time': 'Mon Dec 24 17:10:22 +0000 2018',\n",
       "  'text': 'The Wall is different than the 25 Billion Dollars in Border Security. The complete Wall will be built with the Shutdown money plus funds already in hand. The reporting has been inaccurate on the point. The problem is, without the Wall, much of the rest of Dollars are wasted!'},\n",
       " {'time': 'Mon Dec 24 16:55:32 +0000 2018',\n",
       "  'text': 'I never “lashed out” at the Acting Attorney General of the U.S., a man for whom I have great respect. This is a made up story, one of many, by the Fake News Media!'},\n",
       " {'time': 'Mon Dec 24 15:55:22 +0000 2018',\n",
       "  'text': 'The only problem our economy has is the Fed. They don’t have a feel for the Market, they don’t understand necessary Trade Wars or Strong Dollars or even Democrat Shutdowns over Borders. The Fed is like a powerful golfer who can’t score because he has no touch - he can’t putt!'},\n",
       " {'time': 'Mon Dec 24 15:33:41 +0000 2018',\n",
       "  'text': 'AMERICA IS RESPECTED AGAIN!'},\n",
       " {'time': 'Mon Dec 24 15:23:22 +0000 2018',\n",
       "  'text': 'For all of the sympathizers out there of Brett McGurk remember, he was the Obama appointee who was responsible for loading up airplanes with 1.8 Billion Dollars in CASH &amp;  sending it to Iran as part of the horrific Iran Nuclear Deal (now terminated) approved by Little Bob Corker.'},\n",
       " {'time': 'Mon Dec 24 14:59:23 +0000 2018',\n",
       "  'text': '....We are substantially subsidizing the Militaries of many VERY rich countries all over the world, while at the same time these countries take total advantage of the U.S., and our TAXPAYERS, on Trade. General Mattis did not see this as a problem. I DO, and it is being fixed!'},\n",
       " {'time': 'Mon Dec 24 14:41:02 +0000 2018',\n",
       "  'text': 'To those few Senators who think I don’t like or appreciate being allied with other countries, they are wrong, I DO. What I don’t like, however, is when many of these same countries take advantage of their friendship with the United States, both in Military Protection and Trade...'},\n",
       " {'time': 'Mon Dec 24 14:31:50 +0000 2018',\n",
       "  'text': 'Virtually every Democrat we are dealing with today strongly supported a Border Wall or Fence. It was only when I made it an important part of my campaign, because people and drugs were pouring into our Country unchecked, that they turned against it. Desperately needed!'},\n",
       " {'time': 'Mon Dec 24 04:54:00 +0000 2018',\n",
       "  'text': 'President @RT_Erdogan of Turkey has very strongly informed me that he will eradicate whatever is left of ISIS in Syria....and he is a man who can do it plus, Turkey is right “next door.” Our troops are coming home!'},\n",
       " {'time': 'Mon Dec 24 04:26:22 +0000 2018',\n",
       "  'text': '“The President has been remarkable. I do not doubt that he will thrive in this new environment, and he will be a constant reminder of what populism is.” Thank you to Tammy Bruce and Steve Hilton. Presidential Harassment has been with me from the beginning!'},\n",
       " {'time': 'Mon Dec 24 04:05:26 +0000 2018',\n",
       "  'text': 'The most important way to stop gangs, drugs, human trafficking and massive crime is at our Southern Border. We need Border Security, and as EVERYONE knows, you can’t have Border Security without a Wall. The Drones &amp; Technology are just bells and whistles. Safety for America!'},\n",
       " {'time': 'Mon Dec 24 03:47:21 +0000 2018',\n",
       "  'text': 'Mitch McConnell just told a group of people, and me, that he has been in the U.S. Senate for 32 years and the last two have been by far the best &amp; most productive of his career. Tax &amp; Regulation Cuts, VA Choice, Farm Bill, Criminal Justice Reform, Judgeships &amp; much more. Great!'},\n",
       " {'time': 'Mon Dec 24 03:32:49 +0000 2018',\n",
       "  'text': '“It should not be the job of America to replace regimes around the world. This is what President Trump recognized in Iraq, that it was the biggest foreign policy disaster of the last several decades, and he’s right...The generals still don’t get the mistake.”  @RandPaul'},\n",
       " {'time': 'Sun Dec 23 21:18:49 +0000 2018',\n",
       "  'text': 'Thanks @RandPaul  “I am very proud of the President. This is exactly what he promised, and I think the people agree with him. We’ve been at war too long and in too many places...spent several trillion dollars on these wars everywhere. He’s different...that’s why he got elected.”'},\n",
       " {'time': 'Sun Dec 23 20:20:22 +0000 2018',\n",
       "  'text': '.....Bob Corker was responsible for giving us the horrible Iran Nuclear Deal, which I ended, yet he badmouths me for wanting to bring our young people safely back home. Bob wanted to run and asked for my endorsement. I said NO and the game was over. #MAGA I LOVE TENNESSEE!'}]"
      ]
     },
     "execution_count": 52,
     "metadata": {},
     "output_type": "execute_result"
    }
   ],
   "source": [
    "# user timeline:\n",
    "\n",
    "bot.user_timeline(user_screenname)"
   ]
  },
  {
   "cell_type": "code",
   "execution_count": 54,
   "metadata": {},
   "outputs": [
    {
     "data": {
      "text/plain": [
       "[{'name': 'Donald J. Trump',\n",
       "  'screen_name': 'realDonaldTrump',\n",
       "  'description': '45th President of the United States of America🇺🇸',\n",
       "  'location': 'Washington, DC'}]"
      ]
     },
     "execution_count": 54,
     "metadata": {},
     "output_type": "execute_result"
    }
   ],
   "source": [
    "# user information\n",
    "\n",
    "bot.user_info(user_screenname)"
   ]
  },
  {
   "cell_type": "code",
   "execution_count": 55,
   "metadata": {},
   "outputs": [
    {
     "data": {
      "text/plain": [
       "[{'name': 'Донецкий Кек', 'screen_name': 'yarosav228'},\n",
       " {'name': '826491740573', 'screen_name': 'wv5W1FZ05gRtsp2'},\n",
       " {'name': 'kz', 'screen_name': 'odtdjtamdg'},\n",
       " {'name': 'ehsana', 'screen_name': 'ehsanasen'},\n",
       " {'name': 'Hiếu Hiếu', 'screen_name': 'HiuHiu46219975'},\n",
       " {'name': 'Aarona Ramsey', 'screen_name': 'RamseyAarona'},\n",
       " {'name': 'G7', 'screen_name': 'G7Cascavel'},\n",
       " {'name': 'Abdelrahman Radi', 'screen_name': 'abdoradi2991999'},\n",
       " {'name': 'Brenda mason', 'screen_name': 'MasonBmason1389'},\n",
       " {'name': 'Sohail Sarwar', 'screen_name': 'SohailS59640328'},\n",
       " {'name': 'chenjinfeng', 'screen_name': 'chenjinfeng7'},\n",
       " {'name': 'Jim Rowell', 'screen_name': 'jrscores'},\n",
       " {'name': 'Rahul Bijarniya☤', 'screen_name': 'RahulBijarniya_'},\n",
       " {'name': 'Jessie Roman', 'screen_name': 'JessieR25869574'},\n",
       " {'name': 'Noizeskank', 'screen_name': 'noizeskank'},\n",
       " {'name': 'Muhammad Naeem', 'screen_name': 'Muhamma68677069'},\n",
       " {'name': '陈浩', 'screen_name': 'sV2DYnFaTeiv3Az'},\n",
       " {'name': 'koya Morikawa', 'screen_name': 'KoyaMorikawa'},\n",
       " {'name': 'qazevtnhyuil', 'screen_name': 'juytrwewq'},\n",
       " {'name': 'Shrikant', 'screen_name': '_N3Xg3N_'}]"
      ]
     },
     "execution_count": 55,
     "metadata": {},
     "output_type": "execute_result"
    }
   ],
   "source": [
    "# user followers\n",
    "\n",
    "bot.user_followers(user_screenname)"
   ]
  },
  {
   "cell_type": "code",
   "execution_count": 56,
   "metadata": {},
   "outputs": [
    {
     "name": "stdout",
     "output_type": "stream",
     "text": [
      "Do you really want to unfollow realDonaldTrump? (Enter Y/N)Y\n"
     ]
    }
   ],
   "source": [
    "# unfollow an user\n",
    "bot.unfollow_user(user_screenname)"
   ]
  },
  {
   "cell_type": "code",
   "execution_count": 57,
   "metadata": {},
   "outputs": [
    {
     "name": "stdout",
     "output_type": "stream",
     "text": [
      "Do you really want to follow realDonaldTrump? (Enter Y/N)Y\n",
      "You now follow @realDonaldTrump.\n"
     ]
    }
   ],
   "source": [
    "# follow an user\n",
    "\n",
    "bot.follow_user(user_screenname)"
   ]
  },
  {
   "cell_type": "code",
   "execution_count": null,
   "metadata": {},
   "outputs": [],
   "source": [
    "# post a tweet\n",
    "\n",
    "bot.post_tweet('Hello tweeter!')"
   ]
  },
  {
   "cell_type": "code",
   "execution_count": null,
   "metadata": {},
   "outputs": [],
   "source": [
    "# post a tweet replying or mentioning an user\n",
    "\n",
    "bot.reply_user('Hello, how are you?', user_screenname)"
   ]
  }
 ],
 "metadata": {
  "kernelspec": {
   "display_name": "Python 3",
   "language": "python",
   "name": "python3"
  },
  "language_info": {
   "codemirror_mode": {
    "name": "ipython",
    "version": 3
   },
   "file_extension": ".py",
   "mimetype": "text/x-python",
   "name": "python",
   "nbconvert_exporter": "python",
   "pygments_lexer": "ipython3",
   "version": "3.6.7"
  }
 },
 "nbformat": 4,
 "nbformat_minor": 2
}
